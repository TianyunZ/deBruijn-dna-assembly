{
 "cells": [
  {
   "cell_type": "code",
   "execution_count": 124,
   "metadata": {},
   "outputs": [
    {
     "name": "stdout",
     "output_type": "stream",
     "text": [
      "Nodes={'AC', 'AT', 'CG', 'GA', 'TA', 'GT'}\n",
      "Edges=[('GT', 'TA'), ('TA', 'AC'), ('AC', 'CG'), ('CG', 'GT'), ('GT', 'TA'), ('TA', 'AC'), ('AC', 'CG'), ('CG', 'GA'), ('GA', 'AT')]\n"
     ]
    },
    {
     "data": {
      "image/png": "[encoded data removed]",
      "text/plain": [
       "<Figure size 432x288 with 1 Axes>"
      ]
     },
     "metadata": {},
     "output_type": "display_data"
    }
   ],
   "source": [
    "import networkx as nx\n",
    "import matplotlib.pyplot as plt\n",
    "\n",
    "def create_debruijn_graph(input_string, k):\n",
    "    edges = []\n",
    "    nodes = set()\n",
    "    \n",
    "    for i in range(len(input_string) - k + 1):\n",
    "        node_a = input_string[i:(i + k - 1)]\n",
    "        node_b = input_string[(i + 1):(i + k)]\n",
    "        edges.append((node_a, node_b))\n",
    "        nodes.add(node_a)\n",
    "        nodes.add(node_b)\n",
    "    \n",
    "    return nodes, edges\n",
    "\n",
    "nodes, edges = create_debruijn_graph('GTACGTACGAT', 3)\n",
    "print(f'Nodes={nodes}\\nEdges={edges}')\n",
    "\n",
    "def visualize_debruijn_nxgraph(input_string, k):\n",
    "    nodes, edges = create_debruijn_graph(input_string, k)\n",
    "    G = nx.MultiDiGraph()\n",
    "    G.add_edges_from(edges)\n",
    "\n",
    "    pos = nx.spring_layout(G)\n",
    "    green = '#C4DF41'\n",
    "    blue = '#5EA1E1'\n",
    "    \n",
    "    nx.draw_networkx_nodes(G, pos, **{\n",
    "        'node_color': green,\n",
    "        'node_size':1000,\n",
    "        'node_shape': 'o'\n",
    "    })\n",
    "    nx.draw_networkx_labels(G, pos)\n",
    "    \n",
    "    for edge in G.edges:\n",
    "        nx.draw_networkx_edges(G, pos, **{\n",
    "            'edgelist': [(edge[0],edge[1])],\n",
    "            'width': 2,\n",
    "            'arrowsize': 10,\n",
    "            'min_target_margin': 20,\n",
    "            'min_source_margin': 20,\n",
    "            'connectionstyle': f'arc3,rad = {0.3 * (edge[2] + 1)}'\n",
    "        })\n",
    "\n",
    "    plt.axis('off')\n",
    "    plt.show()\n",
    "    return nodes, edges\n",
    "    \n",
    "\n",
    "G = visualize_debruijn_nxgraph('GTACGTACGAT', 3)"
   ]
  },
  {
   "cell_type": "code",
   "execution_count": 66,
   "metadata": {},
   "outputs": [],
   "source": [
    "class DeBruijnGraph:\n",
    "    \"\"\" A de Bruijn multigraph built from a collection of strings.\n",
    "        User supplies strings and k-mer length k.  Nodes of the de\n",
    "        Bruijn graph are k-1-mers and edges correspond to the k-mer\n",
    "        that joins a left k-1-mer to a right k-1-mer. \"\"\"\n",
    "\n",
    "    @staticmethod\n",
    "    def chop(st, k):\n",
    "        \"\"\" Chop a string up into k mers of given length \"\"\"\n",
    "        for i in range(0, len(st)-(k-1)):\n",
    "            yield (st[i:i+k], st[i:i+k-1], st[i+1:i+k])\n",
    "    \n",
    "    class Node:\n",
    "        \"\"\" Node in a de Bruijn graph, representing a k-1 mer.  We keep\n",
    "            track of # of incoming/outgoing edges so it's easy to check\n",
    "            for balanced, semi-balanced. \"\"\"\n",
    "        \n",
    "        def __init__(self, km1mer):\n",
    "            self.km1mer = km1mer\n",
    "            self.nin = 0\n",
    "            self.nout = 0\n",
    "        \n",
    "        def isSemiBalanced(self):\n",
    "            return abs(self.nin - self.nout) == 1\n",
    "        \n",
    "        def isBalanced(self):\n",
    "            return self.nin == self.nout\n",
    "        \n",
    "        def __hash__(self):\n",
    "            return hash(self.km1mer)\n",
    "        \n",
    "        def __str__(self):\n",
    "            return self.km1mer\n",
    "    \n",
    "    def __init__(self, reads, k):\n",
    "        \"\"\" Build de Bruijn multigraph given string iterator and k-mer\n",
    "            length k \"\"\"\n",
    "        self.G = {}     # multimap from nodes to neighbors\n",
    "        self.nodes = {} # maps k-1-mers to Node objects\n",
    "        for st in reads:\n",
    "            for kmer, km1L, km1R in self.chop(st, k):\n",
    "                nodeL, nodeR = None, None\n",
    "                if km1L in self.nodes:\n",
    "                    nodeL = self.nodes[km1L]\n",
    "                else:\n",
    "                    nodeL = self.nodes[km1L] = self.Node(km1L)\n",
    "                if km1R in self.nodes:\n",
    "                    nodeR = self.nodes[km1R]\n",
    "                else:\n",
    "                    nodeR = self.nodes[km1R] = self.Node(km1R)\n",
    "                nodeL.nout += 1\n",
    "                nodeR.nin += 1\n",
    "                self.G.setdefault(nodeL, []).append(nodeR)\n",
    "        \n",
    "        # Iterate through nodes and tally how many are balanced,\n",
    "        # semi-balanced, or neither\n",
    "        self.nsemi, self.nbal, self.nneither = 0, 0, 0\n",
    "        \n",
    "        # Keep track of head and tail nodes in the case of a graph with\n",
    "        # Eularian path (not cycle)\n",
    "        self.head, self.tail = None, None\n",
    "        for node in self.nodes.values():\n",
    "            if node.isBalanced():\n",
    "                self.nbal += 1\n",
    "            elif node.isSemiBalanced():\n",
    "                if node.nin == node.nout + 1:\n",
    "                    self.tail = node\n",
    "                if node.nin == node.nout - 1:\n",
    "                    self.head = node\n",
    "                self.nsemi += 1\n",
    "            else:\n",
    "                self.nneither += 1\n",
    "    \n",
    "    def nnodes(self):\n",
    "        \"\"\" Return # nodes \"\"\"\n",
    "        return len(self.nodes)\n",
    "    \n",
    "    def nedges(self):\n",
    "        \"\"\" Return # edges \"\"\"\n",
    "        return len(self.G)\n",
    "    \n",
    "    def hasEulerianPath(self):\n",
    "        \"\"\" Return true iff graph has Eulerian path. \"\"\"\n",
    "        return self.nneither == 0 and self.nsemi == 2\n",
    "    \n",
    "    def hasEulerianCycle(self):\n",
    "        \"\"\" Return true iff graph has Eulerian cycle. \"\"\"\n",
    "        return self.nneither == 0 and self.nsemi == 0\n",
    "    \n",
    "    def isEulerian(self):\n",
    "        \"\"\" Return true iff graph has Eulerian path or cycle \"\"\"\n",
    "        return self.hasEulerianPath() or self.hasEulerianCycle()\n",
    "    \n",
    "    def eulerianPath(self):\n",
    "        \"\"\" Find and return Eulerian path or cycle (as appropriate) \"\"\"\n",
    "        assert self.isEulerian()\n",
    "        g = self.G\n",
    "        if self.hasEulerianPath():\n",
    "            g = g.copy()\n",
    "            assert self.head is not None\n",
    "            assert self.tail is not None\n",
    "            g.setdefault(self.tail, []).append(self.head)\n",
    "        # graph g has an Eulerian cycle\n",
    "        tour = []\n",
    "        src = next(iter(g.keys())) # pick arbitrary starting node\n",
    "        \n",
    "        def __visit(n):\n",
    "            while len(g[n]) > 0:\n",
    "                dst = g[n].pop()\n",
    "                __visit(dst)\n",
    "            tour.append(n)\n",
    "        \n",
    "        __visit(src)\n",
    "        tour = tour[::-1][:-1]\n",
    "            \n",
    "        if self.hasEulerianPath():\n",
    "            # Adjust node list so that it starts at head and ends at tail\n",
    "            sti = tour.index(self.head)\n",
    "            tour = tour[sti:] + tour[:sti]\n",
    "        \n",
    "        # Return node list\n",
    "        return [str(t) for t in tour]\n",
    "        \n",
    "    def toDot(self, dotFh, weights=False):\n",
    "        \"\"\" Write dot representation to given filehandle.  If 'weights'\n",
    "            is true, label edges corresponding to distinct k-1-mers\n",
    "            with weights, instead of writing a separate edge for each\n",
    "            copy of a k-1-mer. \"\"\"\n",
    "        dotFh.write(\"digraph \\\"Graph\\\" {\\n\")\n",
    "        dotFh.write(\"  bgcolor=\\\"transparent\\\";\\n\")\n",
    "        for node in self.G.keys():\n",
    "            lab = node.km1mer\n",
    "            dotFh.write(\"  %s [label=\\\"%s\\\"] ;\\n\" % (lab, lab))\n",
    "        for src, dsts in self.G.items():\n",
    "            srclab = src.km1mer\n",
    "            if weights:\n",
    "                weightmap = {}\n",
    "                if weights:\n",
    "                    for dst in dsts:\n",
    "                        weightmap[dst] = weightmap.get(dst, 0) + 1\n",
    "                for dst, v in weightmap.iteritems():\n",
    "                    dstlab = dst.km1mer\n",
    "                    dotFh.write(\"  %s -> %s [label=\\\"%d\\\"] ;\\n\" % (srclab, dstlab, v))\n",
    "            else:\n",
    "                for dst in dsts:\n",
    "                    srclab = src.km1mer\n",
    "                    dstlab = dst.km1mer\n",
    "                    dotFh.write(\"  %s -> %s [label=\\\"\\\"] ;\\n\" % (srclab, dstlab))\n",
    "        dotFh.write(\"}\\n\")\n",
    "\n",
    "input_string = 'GTACGTACGAT'\n",
    "k = 6\n",
    "# reads = create_kmers(input_string, k)\n",
    "reads = [input_string]\n",
    "G = DeBruijnGraph(reads, k)"
   ]
  },
  {
   "cell_type": "code",
   "execution_count": 67,
   "metadata": {},
   "outputs": [
    {
     "name": "stdout",
     "output_type": "stream",
     "text": [
      "['GTACG', 'TACGA', 'ACGAT', 'GTACG', 'TACGT', 'ACGTA', 'CGTAC']\n",
      "GTACGATGTAC\n"
     ]
    }
   ],
   "source": [
    "path = G.eulerianPath()\n",
    "print(path)\n",
    "output_string = path[0][:-1]\n",
    "for node in path:\n",
    "    output_string += node[-1:]\n",
    "print(output_string)"
   ]
  },
  {
   "cell_type": "code",
   "execution_count": 68,
   "metadata": {},
   "outputs": [],
   "source": [
    "def graph():\n",
    "    with open('dbg.dot', 'wt') as f:\n",
    "        G.toDot(f)\n",
    "    with open('dbg.dot', 'rt') as f:\n",
    "        dotfile = f.read()\n",
    "    return dotfile"
   ]
  },
  {
   "cell_type": "code",
   "execution_count": 69,
   "metadata": {},
   "outputs": [
    {
     "data": {
      "image/svg+xml": [
       "<svg xmlns=\"http://www.w3.org/2000/svg\" xmlns:xlink=\"http://www.w3.org/1999/xlink\" width=\"486pt\" height=\"44pt\" viewBox=\"0.00 0.00 485.89 44.00\">\n",
       "<g id=\"graph0\" class=\"graph\" transform=\"scale(1 1) rotate(0) translate(4 40)\">\n",
       "<title>Graph</title>\n",
       "<!-- GTACG -->\n",
       "<g id=\"node1\" class=\"node\">\n",
       "<title>GTACG</title>\n",
       "<ellipse fill=\"none\" stroke=\"black\" cx=\"40.95\" cy=\"-18\" rx=\"40.89\" ry=\"18\"/>\n",
       "<text text-anchor=\"middle\" x=\"40.95\" y=\"-14.3\" font-family=\"Times,serif\" font-size=\"14.00\">GTACG</text>\n",
       "</g>\n",
       "<!-- TACGT -->\n",
       "<g id=\"node2\" class=\"node\">\n",
       "<title>TACGT</title>\n",
       "<ellipse fill=\"none\" stroke=\"black\" cx=\"139.95\" cy=\"-18\" rx=\"40.09\" ry=\"18\"/>\n",
       "<text text-anchor=\"middle\" x=\"139.95\" y=\"-14.3\" font-family=\"Times,serif\" font-size=\"14.00\">TACGT</text>\n",
       "</g>\n",
       "<!-- ACGTA -->\n",
       "<g id=\"node3\" class=\"node\">\n",
       "<title>ACGTA</title>\n",
       "<ellipse fill=\"none\" stroke=\"black\" cx=\"238.95\" cy=\"-18\" rx=\"40.89\" ry=\"18\"/>\n",
       "<text text-anchor=\"middle\" x=\"238.95\" y=\"-14.3\" font-family=\"Times,serif\" font-size=\"14.00\">ACGTA</text>\n",
       "</g>\n",
       "<!-- CGTAC -->\n",
       "<g id=\"node4\" class=\"node\">\n",
       "<title>CGTAC</title>\n",
       "<ellipse fill=\"none\" stroke=\"black\" cx=\"337.95\" cy=\"-18\" rx=\"40.09\" ry=\"18\"/>\n",
       "<text text-anchor=\"middle\" x=\"337.95\" y=\"-14.3\" font-family=\"Times,serif\" font-size=\"14.00\">CGTAC</text>\n",
       "</g>\n",
       "<!-- TACGA -->\n",
       "<g id=\"node5\" class=\"node\">\n",
       "<title>TACGA</title>\n",
       "<ellipse fill=\"none\" stroke=\"black\" cx=\"436.95\" cy=\"-18\" rx=\"40.89\" ry=\"18\"/>\n",
       "<text text-anchor=\"middle\" x=\"436.95\" y=\"-14.3\" font-family=\"Times,serif\" font-size=\"14.00\">TACGA</text>\n",
       "</g>\n",
       "</g>\n",
       "</svg>"
      ],
      "text/plain": [
       "<IPython.core.display.SVG object>"
      ]
     },
     "metadata": {},
     "output_type": "display_data"
    }
   ],
   "source": [
    "# %load_ext gvmagic\n",
    "%dotstr graph()"
   ]
  },
  {
   "cell_type": "code",
   "execution_count": 44,
   "metadata": {},
   "outputs": [],
   "source": [
    "def get_eulerian_path(G):\n",
    "    "
   ]
  },
  {
   "cell_type": "code",
   "execution_count": 71,
   "metadata": {},
   "outputs": [
    {
     "data": {
      "text/plain": [
       "OutMultiEdgeView([('GT', 'TA', 0), ('GT', 'TA', 1), ('TA', 'AC', 0), ('TA', 'AC', 1), ('AC', 'CG', 0), ('AC', 'CG', 1), ('CG', 'GT', 0), ('CG', 'GA', 0), ('GA', 'AT', 0)])"
      ]
     },
     "execution_count": 71,
     "metadata": {},
     "output_type": "execute_result"
    }
   ],
   "source": [
    "def eulerianPath(self):\n",
    "    \"\"\" Find and return Eulerian path or cycle (as appropriate) \"\"\"\n",
    "    g = g.copy()\n",
    "    assert self.head is not None\n",
    "    assert self.tail is not None\n",
    "    g.setdefault(self.tail, []).append(self.head)\n",
    "    # graph g has an Eulerian cycle\n",
    "    tour = []\n",
    "    src = next(iter(g.keys())) # pick arbitrary starting node\n",
    "\n",
    "    def __visit(n):\n",
    "        while len(g[n]) > 0:\n",
    "            dst = g[n].pop()\n",
    "            __visit(dst)\n",
    "        tour.append(n)\n",
    "\n",
    "    __visit(src)\n",
    "    tour = tour[::-1][:-1]\n",
    "\n",
    "    if self.hasEulerianPath():\n",
    "        # Adjust node list so that it starts at head and ends at tail\n",
    "        sti = tour.index(self.head)\n",
    "        tour = tour[sti:] + tour[:sti]\n",
    "\n",
    "    # Return node list\n",
    "    return [str(t) for t in tour]"
   ]
  },
  {
   "cell_type": "code",
   "execution_count": 79,
   "metadata": {},
   "outputs": [],
   "source": [
    "input_string = 'GTACGTACGAT'\n",
    "k = 6\n",
    "\n",
    "# reads = create_kmers(input_string, k)\n",
    "reads = [input_string]\n",
    "G = create_debruijn_graph(input_string, k)"
   ]
  },
  {
   "cell_type": "code",
   "execution_count": 111,
   "metadata": {},
   "outputs": [
    {
     "name": "stdout",
     "output_type": "stream",
     "text": [
      "{'GTACG': 1, 'ACGAT': -1, 'ACGTA': 0, 'TACGT': 0, 'TACGA': 0, 'CGTAC': 0}\n"
     ]
    }
   ],
   "source": [
    "nodes, edges = G\n",
    "graph = {node: set() for node in nodes}\n",
    "balances = {node: 0 for node in nodes}\n",
    "\n",
    "for a, b in edges:\n",
    "    graph[a].add(b)\n",
    "\n",
    "    # out edge\n",
    "    balances[a] += 1\n",
    "    # in edge\n",
    "    balances[b] -= 1\n",
    "    \n",
    "print(balances)"
   ]
  },
  {
   "cell_type": "code",
   "execution_count": 114,
   "metadata": {},
   "outputs": [
    {
     "name": "stdout",
     "output_type": "stream",
     "text": [
      "['GTACG']\n"
     ]
    }
   ],
   "source": [
    "source = [node for node, balance in balances.items() if balance > 0][0]\n",
    "print(source)"
   ]
  },
  {
   "cell_type": "code",
   "execution_count": 126,
   "metadata": {},
   "outputs": [
    {
     "data": {
      "image/png": "[encoded data removed]",
      "text/plain": [
       "<Figure size 432x288 with 1 Axes>"
      ]
     },
     "metadata": {},
     "output_type": "display_data"
    },
    {
     "data": {
      "text/plain": [
       "'GTACGAT'"
      ]
     },
     "execution_count": 126,
     "metadata": {},
     "output_type": "execute_result"
    }
   ],
   "source": [
    "# Shortest Common Superstring using deBruijn Graph \n",
    "\n",
    "def scs_dbg(input_string, k):\n",
    "    # G = create_debruijn_graph(input_string, k)\n",
    "    G = visualize_debruijn_nxgraph(input_string, k)\n",
    "    return eulerian_walk(G)\n",
    "\n",
    "def eulerian_walk(G):\n",
    "    nodes, edges = G\n",
    "    graph = {node: set() for node in nodes}\n",
    "    balances = {node: 0 for node in nodes}\n",
    "\n",
    "    for a, b in edges:\n",
    "        graph[a].add(b)\n",
    "\n",
    "        # out edge\n",
    "        balances[a] += 1\n",
    "        # in edge\n",
    "        balances[b] -= 1\n",
    "    \n",
    "    # Find first Node, source with out > in\n",
    "    source = [n for n, b in balances.items() if b > 0][0]\n",
    "    \n",
    "    # Use breadth-first search \n",
    "    nodes_path = bfs(graph, source)\n",
    "    return glue_path(nodes_path)\n",
    "    \n",
    "def bfs(graph, node):\n",
    "    # Find shortest path\n",
    "    path = []\n",
    "    visited = [node]\n",
    "    queue = [node]\n",
    "\n",
    "    while queue:\n",
    "        s = queue.pop(0) \n",
    "        path.append(s)\n",
    "\n",
    "        for neighbour in graph[s]:\n",
    "            if neighbour not in visited:\n",
    "                visited.append(neighbour)\n",
    "                queue.append(neighbour)\n",
    "    return path\n",
    "\n",
    "def glue_path(ss):\n",
    "    sup = ss[0]\n",
    "    for i in range(len(ss) - 1):\n",
    "        sup += ss[i+1][-1:]\n",
    "    return sup\n",
    "\n",
    "scs_dbg('GTACGTACGAT', 3)"
   ]
  },
  {
   "cell_type": "code",
   "execution_count": 93,
   "metadata": {},
   "outputs": [
    {
     "data": {
      "text/plain": [
       "'GTACGTACGAT'"
      ]
     },
     "execution_count": 93,
     "metadata": {},
     "output_type": "execute_result"
    }
   ],
   "source": [
    "# Find maximum overlap bewteen adjacent reads\n",
    "def max_overlap(a, b, min_length=3):\n",
    "    start = 0\n",
    "    while True:\n",
    "        start = a.find(b[:min_length], start)\n",
    "        if start == -1:\n",
    "            return 0\n",
    "        if b.startswith(a[start:]):\n",
    "            return len(a) - start\n",
    "        start += 1\n",
    "\n",
    "# Find the shortest common superstring on all sorted permutations        \n",
    "def scs(ss):\n",
    "    shortest_sup = None\n",
    "    sup = ss[0]\n",
    "    for i in range(len(ss) - 1):\n",
    "        overlap_len = max_overlap(ss[i], ss[i+1], min_length=1)\n",
    "        sup += ss[i+1][overlap_len:]\n",
    "    if not shortest_sup or len(sup) < len(shortest_sup):\n",
    "        shortest_sup = sup\n",
    "    return shortest_sup\n",
    "\n",
    "output_string = scs(reads)\n",
    "output_string"
   ]
  },
  {
   "cell_type": "code",
   "execution_count": 91,
   "metadata": {},
   "outputs": [
    {
     "name": "stdout",
     "output_type": "stream",
     "text": [
      "GTACGT\n",
      " TACGTA\n",
      "  ACGTAC\n",
      "   CGTACG\n",
      "    GTACGA\n",
      "     TACGAT\n"
     ]
    }
   ],
   "source": [
    "# Utils\n",
    "def create_kmers(input_string, k):\n",
    "    kmers = []\n",
    "    for i in range(len(input_string) - k):\n",
    "        kmers.append(input_string[i:(i + k)])\n",
    "    kmers.append(input_string[-k:])\n",
    "    return kmers    \n",
    "\n",
    "reads = create_kmers('GTACGTACGAT', 6)\n",
    "\n",
    "for i, read in enumerate(reads):\n",
    "    print(f'{i * \" \"}{read}')\n"
   ]
  },
  {
   "cell_type": "code",
   "execution_count": 106,
   "metadata": {},
   "outputs": [
    {
     "data": {
      "text/plain": [
       "7207"
      ]
     },
     "execution_count": 106,
     "metadata": {},
     "output_type": "execute_result"
    }
   ],
   "source": [
    "seq = '''gcaggcggatcacgaggttgggagatcgagaccatcctggctaacggtga\n",
    "aaccccgtctctactgaaaaatacaaaaaaaaattagccgggcgtggtgc\n",
    "tgggcacctgtagtcccagctactcgggaggctgaggaaggagaatggcg\n",
    "tgaacctgggcggtggagcttgcagtgagctgagatcacgccactgcact\n",
    "ccagcctgggcgacagagcgagattccatctcaaaaaaaaaaaaaaaagg\n",
    "cctcccctgcttgccacaggtctccccaaggcgcactggcctcatcttgg\n",
    "gcctgtgttatctcctaggttggctctgactgtaccaccatccactacaa\n",
    "ctacatgtgtaacagttcctgcatgggcggcatgaaccggaggcccatcc\n",
    "tcaccatcatcacactggaagactccaggtcaggagccacttgccaccct\n",
    "gcacactggcctgctgtgccccagcctctgcttgcctctgacccctgggc\n",
    "ccacctcttaccgatttcttccatactactacccatccacctctcatcac\n",
    "atccccggcggggaatctccttactgctcccactcagttttcttttctct\n",
    "ggctttgggacctcttaacctgtggcttctcctccacctacctggagctg\n",
    "gagcttaggctccagaaaggacaagggtggttgggagtagatggagcctg\n",
    "gttttttaaatgggacaggtaggacctgatttccttactgcctcttgctt\n",
    "ctcttttcctatcctgagtagtggtaatctactgggacggaacagctttg\n",
    "aggtgcgtgtttgtgcctgtcctgggagagaccggcgcacagaggaagag\n",
    "aatctccgcaagaaaggggagcctcaccacgagctgcccccagggagcac\n",
    "taagcgaggtaagcaagcaggacaagaagcggtggaggagaccaagggtg\n",
    "cagttatgcctcagattcacttttatcacctttccttgcctctttcctag\n",
    "cactgcccaacaacaccagctcctctccccagccaaagaagaaaccactg\n",
    "gatggagaatatttcacccttcaggtactaagtcttgggacctcttatca\n",
    "agtggaaagtttccagtctaacactcaaaatgccgttttcttcttgactg\n",
    "ttttacctgcaattggggcatttgccatcagggggcagtgatgcctcaaa\n",
    "gacaatggctcctggttgtagctaactaacttcagaacaccaacttatac\n",
    "cataatatatattttaaaggaccagaccagctttcaaaaagaaaattgtt\n",
    "aaagagagcatgaaaatggttctatgactttgcctgatacagatgctact\n",
    "tgacttacgatggtgttacttcctgataaactcgtcgtaagttgaaaata\n",
    "ttgtaagttgaaaatggatttaatacacctaatctaaggaacatcatagc\n",
    "ttagcctagcctgctttttttttttttttttttggagacagagtctcact\n",
    "ctgtcacccaggctggagtgcagtggcgggatctcggctcactgcaacct\n",
    "ccgccttctgggttcaagcgattctcctgcctcagcccactgagtagctg\n",
    "ggattacaggcacctgccccgacgcccagctaattttttgttatttattt\n",
    "atttttttttttagtagagatgaggtttcaccatgttggccaggctagtc\n",
    "tcgaactcctgaccttgtgatctgcctgccttggcctcccaaagtgctgg\n",
    "gattacaggcgtgagccaccgcacccggcctgcctagcctacttttattt\n",
    "tatttttaatggagacagcatcttgctctgttgcccaggctggattacag\n",
    "tgatgtgatcatagctcattataccctcctgggctcaagcaatcccccta\n",
    "actctgcctccccagtagctaggaccacaggcatacaccaccatacccag\n",
    "ctaatttttaaaattttttgtagatagatagagtctcactatgttgccca\n",
    "ggctggtctctagcctacttttttgagacaaggtcttgctctgtcaccca\n",
    "ggctggatagagtgcagtagtgcagtcacagctcactgcagcctccacct\n",
    "cccaggctccatccatcctcccagctcagcctcccaagttgcttcaacta\n",
    "caggcctgcaccaccatgcctggctaatttttatttatttatttttattt\n",
    "tattttattttatttttttgagactcagtctcactctgtcgcccaggctg\n",
    "gagtgcagtggcatgatctcggctcactgcaacctctgcctcctgggttc\n",
    "aagtgattctcctgcctcagcctcccgaatagctaggactacaagcgcct\n",
    "gctaccacgcccagctaatttttgtatttttagtagagacagggtttcac\n",
    "catgttggccaggctggtctcgaacttctgaccatgtgatccgcccgcct\n",
    "cggcctcccaaagtgctgggattacaggtgtgagccaccacgcccggcta\n",
    "atttttatttatttatttaaagacagagtctcactctgtcactcaggcta\n",
    "gagtgcagtggcaccatctcagctcactgcagccttgacctccctgggct\n",
    "ccggtgatttcaccctcccaagtagctaggactacaggcacatgccacga\n",
    "cacccagctaattttttattttctgtgaagtcaaggtcttgctacgttgc\n",
    "ccatgctggtatcaaacccctgggctcaatcaatccttccacctcagcct\n",
    "ccccaagtattggggttacaggcatgagctaccacactcagccctagcct\n",
    "acttgaaacgtgttcagagcatttaagttaccctacagttgggcaaagtc\n",
    "atctaacacaaagccctttttatagtaataaaatgttgtatatctcatgt\n",
    "gatttattgaatattgttactgaaagtgagaaacagcatggttgcatgaa\n",
    "aggaggcacagtcgagccaggcacagcctgggcgcagagcgagactcaaa\n",
    "aaaagaaaaggccaggcgcactggctcacgcctgtaatcccagcatttcg\n",
    "ggaggctgaggcgggtggatcacctgaggtcaggagttcaagaccagcct\n",
    "agccaacatggtgaaaccccgtctctactaaaatacaaaaattaaccggg\n",
    "cgtgatggcaggtgcctgtaatcccagctacttgggaggctgaggcagga\n",
    "gaatcgcttgaaccaggaggcggaggttgcagggagccaagatggcgcca\n",
    "ctgcactccagcctgggcgatagagtgagactccgtctcagaaaaaaaag\n",
    "aaaagaaacgaggcacagtcgcatgcacatgtagtcccagttacttgaga\n",
    "ggctaaggcaggaggatctcttgagcccaagagtttgagtccagcctgaa\n",
    "caacatagcaagacatcatctctaaaatttaaaaaagggccgggcacagt\n",
    "ggctcacacctgtaatcccagcactttgggaggtggaggtgggtagatca\n",
    "cctgacgtcaggagttggaaaccagcctggctaacatggtgaagccccat\n",
    "ctctactaaaaacacaaaaattagccaggtgtggtagcacacgcctgtag\n",
    "tcccagctactcgggaggctgaggcacaagaatcacttgaaccccagagg\n",
    "cggagattgcaatcagccaagattgcaccattgcactcccgcctgggcaa\n",
    "cagagtgagaccccatctcaaaataaataaataaatatttttaaaagtca\n",
    "gctgtataggtacttgaagtgcagtttctactaaatgcatgttgcttttg\n",
    "taccgtcataaagtcaaacaattgtaacttgaaccatcttttaactcagg\n",
    "tactgtgtatatacttacttctccccctcctctgttgctgcagatccgtg\n",
    "ggcgtgagcgcttcgagatgttccgagagctgaatgaggccttggaactc\n",
    "aaggatgcccaggctgggaaggagccaggggggagcagggctcactccag\n",
    "gtgagtgacctcagccccttcctggccctactcccctgccttcctaggtt\n",
    "ggaaagccataggattccattctcatcctgccttcatggtcaaaggcagc\n",
    "tgaccccatctcattgggtcccagccctgcacagacatttttttagtctt\n",
    "cctccggttgaatcctataaccacattcttgcctcagtgtatccacagaa\n",
    "catccaaacccagggacgagtgtggatacttctttgccattctccgcaac\n",
    "tcccagcccagagctggagggtctcaaggaggggcctaataattgtgtaa\n",
    "tactgaatacagccagagtttcaggtcatatactcagccctgccatgcac\n",
    "cggcaggtcctaggtgacccccgtcaaactcagtttccttatatataaaa\n",
    "tggggtaagggggccgggcgcagtggctcacgaatcccacactctgggag\n",
    "gccaaggcgagtggatcacctgaggtcgggagtttgagcccagcctgacc\n",
    "aacatggagaaaccccatctctactaaaaatacaaaagtagccgggcgtg\n",
    "gtgatgcatgcctgtaatcccagctacctactcgggaggctgaggcagga\n",
    "gaatcgcttgaacccgggaggcagaggttgcggtgagctgagatctcacc\n",
    "attacactccagcctgggcaacaagagtgaaactccgtctcaaaaaagat\n",
    "aaataaagtaaaatggggtaagggaagattacgagactaatacacactaa\n",
    "tactctgaggtgctcagtaaacatatttgcatggggtgtggccaccatct\n",
    "tgatttgaattcccgttgtcccagccttaggcccttcaaagcattggtca\n",
    "gggaaaaggggcacagaccctctcactcatgtgatgtcatctctcctccc\n",
    "tgcttctgtctcctacagccacctgaagtccaaaaagggtcagtctacct\n",
    "cccgccataaaaaactcatgttcaagacagaagggcctgactcagactga\n",
    "cattctccacttcttgttccccactgacagcctcccacccccatctctcc\n",
    "ctcccctgccattttgggttttgggtctttgaacccttgcttgcaatagg\n",
    "tgtgcgtcagaagcacccaggacttccatttgctttgtcccggggctcca\n",
    "ctgaacaagttggcctgcactggtgttttgttgtggggaggaggatgggg\n",
    "agtaggacataccagcttagattttaaggtttttactgtgagggatgttt\n",
    "gggagatgtaagaaatgttcttgcagttaagggttagtttacaatcagcc\n",
    "acattctaggtaggggcccacttcaccgtactaaccagggaagctgtccc\n",
    "tcactgttgaattttctctaacttcaaggcccatatctgtgaaatgctgg\n",
    "catttgcacctacctcacagagtgcattgtgagggttaatgaaataatgt\n",
    "acatctggccttgaaaccaccttttattacatggggtctagaacttgacc\n",
    "cccttgagggtgcttgttccctctccctgttggtcggtgggttggtagtt\n",
    "tctacagttgggcagctggttaggtagagggagttgtcaagtctctgctg\n",
    "gcccagccaaaccctgtctgacaacctcttggtgaaccttagtacctaaa\n",
    "aggaaatctcaccccatcccacaccctggaggatttcatctcttgtatat\n",
    "gatgatctggatccaccaagacttgttttatgctcagggtcaatttcttt\n",
    "tttcttttttttttttttttttctttttctttgagactgggtctcgcttt\n",
    "gttgcccaggctggagtggagtggcgtgatcttggcttactgcagccttt\n",
    "gcctccccggctcgagcagtcctgcctcagcctccggagtagctgggacc\n",
    "acaggttcatgccaccatggccagccaacttttgcatgttttgtagagat\n",
    "ggggtctcacagtgttgcccaggctggtctcaaactcctgggctcaggcg\n",
    "atccacctgtctcagcctcccagagtgctgggattacaattgtgagccac\n",
    "cacgtccagctggaagggtcaacatcttttacattctgcaagcacatctg\n",
    "cattttcaccccacccttcccctccttctccctttttatatcccattttt\n",
    "atatcgatctcttattttacaataaaactttgctgccacctgtgtgtctg\n",
    "aggggtgaacgccagtgcaggctactggggtcagcaggtgcaggggtgag\n",
    "tgaggaggtgctgggaagcagccacctgagtctgcaatgagtgtgggctg\n",
    "gggggcccagtgcccgggttccgggaggggaacaaaggctggagactggg\n",
    "tcagtctgcgggctgcatgacaacaagggagggggtggctccattcataa\n",
    "ctcaggaaccaaccgtccctcctcccctccggccacggctggcacaaggt\n",
    "tctctccctcccctgcttctaggactgggctgcttccccctcggcagcct\n",
    "ctcaccaaggattacgggatttaaatgtctgatttagcaaggctgagcct\n",
    "ccagggtggccatctgctccatcagaaagtggcaggatacctgggttccc\n",
    "aaggggaacaggggtgggtgctactggatggagagaggccagtgggaggc\n",
    "ctgctagccagggtcccaggaaagtgggggcagctaaggtaagagtaggg\n",
    "gtgtggggctaggtccttcccagcatcccctcatcctgggcctcatgcca\n",
    "ggtagctgaatgaattgaagctttaaactctgccaggaaaacctttcaaa\n",
    "gggcttcttgggatagggaggagagtcgggttgaggagctcagtactgcc\n",
    "tgcccatgctcctcagggctgctggctcccagggaggggggctgggagca\n",
    "ggcaggctcttccccatcacccactgctctcttggagccagtgcttgaag\n",
    "gggcagtcagacatggcttgcccttcctcctccctggtggtggagatggg\n",
    "tgttagggtccagtgggtgctactgtccaggggggcttctggggccacca\n",
    "gcctgtcagctcatcaaccaggctgaaggtgcaagcaggagccccttgcc\n",
    "ttgccccaaggatcccagacagctatgaagccaccagccttcctgacctc\n",
    "aagaccaccttttttttttctctttcttactagggaatgccaaacactct\n",
    "ccccagg'''\n",
    "\n",
    "len(seq.replace('\\n', ''))"
   ]
  },
  {
   "cell_type": "code",
   "execution_count": 107,
   "metadata": {},
   "outputs": [
    {
     "data": {
      "text/plain": [
       "102500"
      ]
     },
     "execution_count": 107,
     "metadata": {},
     "output_type": "execute_result"
    }
   ],
   "source": [
    "10304"
   ]
  },
  {
   "cell_type": "code",
   "execution_count": null,
   "metadata": {},
   "outputs": [],
   "source": []
  }
 ],
 "metadata": {
  "kernelspec": {
   "display_name": "Python 3",
   "language": "python",
   "name": "python3"
  },
  "language_info": {
   "codemirror_mode": {
    "name": "ipython",
    "version": 3
   },
   "file_extension": ".py",
   "mimetype": "text/x-python",
   "name": "python",
   "nbconvert_exporter": "python",
   "pygments_lexer": "ipython3",
   "version": "3.8.6"
  }
 },
 "nbformat": 4,
 "nbformat_minor": 4
}
